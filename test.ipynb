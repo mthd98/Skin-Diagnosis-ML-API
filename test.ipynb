{
 "cells": [
  {
   "cell_type": "code",
   "execution_count": 2,
   "metadata": {},
   "outputs": [],
   "source": [
    "import requests\n",
    "from App.DB.MongoDB import MongoDB\n",
    "from uuid import uuid4\n",
    "from decouple import config\n",
    "import datetime\n"
   ]
  },
  {
   "cell_type": "code",
   "execution_count": null,
   "metadata": {},
   "outputs": [],
   "source": [
    "db = MongoDB(config(\"MONGO_USERNAME\"), config(\"MONGO_PASSWORD\"))"
   ]
  },
  {
   "cell_type": "code",
   "execution_count": 4,
   "metadata": {},
   "outputs": [
    {
     "data": {
      "text/plain": [
       "ObjectId('67a6045ad35c5559087caa2c')"
      ]
     },
     "execution_count": 4,
     "metadata": {},
     "output_type": "execute_result"
    }
   ],
   "source": [
    "# create user API key \n",
    "user_id = str(uuid4())\n",
    "api_key = str(uuid4())\n",
    "user_email = 'mentzerhuss@gmail.com'\n",
    "name= \"muntadher\"\n",
    "password = \"jfkfbsdjgrwo\"\n",
    "\n",
    "date = datetime.datetime.now()\n",
    "db.insert_data(\"Users\",\"Users-API-Keys\",{\n",
    "    \"doctor_id\": user_id,\n",
    "    \"api_key\": api_key,\n",
    "    \"expired_date\": date.strftime(\"%Y-%m-%d %H:%M:%S\"),\n",
    "    \"usage\": 100\n",
    "\n",
    "})\n",
    "\n",
    "\n",
    "\n",
    "# create user\n",
    "db.insert_data(\"Users\",\"Doctors\",{\n",
    "    \"doctor_id\": user_id,\n",
    "    \"email\": user_email,\n",
    "    \"name\": name,\n",
    "    \"password\": password,\n",
    "    \"created_at\": date.strftime(\"%Y-%m-%d %H:%M:%S\"),\n",
    "    })\n",
    "\n"
   ]
  },
  {
   "cell_type": "code",
   "execution_count": 13,
   "metadata": {},
   "outputs": [
    {
     "data": {
      "text/plain": [
       "ObjectId('67a4d634ba14c7fc06197bb6')"
      ]
     },
     "execution_count": 13,
     "metadata": {},
     "output_type": "execute_result"
    }
   ],
   "source": [
    "user_id = str(uuid4())\n",
    "date_of_barith = \"1999-12-12\"\n",
    "country = \"iraq\"\n",
    "gender = \"M\"\n",
    "occupation = \"eng\"\n",
    "ethnicity = \"arab\"\n",
    "\n",
    "db.insert_data(\"Users\",\"Patients\",{\n",
    "    \"patient_id\": user_id,\n",
    "    \"date_of_barith\": date_of_barith,\n",
    "    \"country\": country,\n",
    "    \"gender\":gender,\n",
    "    \"occupation\": occupation,\n",
    "    \"ethnicity\":ethnicity,\n",
    "    \"notes\":[],\n",
    "    \"created_at\": date.strftime(\"%Y-%m-%d %H:%M:%S\")})\n",
    "    \n",
    "\n",
    "\n"
   ]
  },
  {
   "cell_type": "code",
   "execution_count": 14,
   "metadata": {},
   "outputs": [
    {
     "data": {
      "text/plain": [
       "{'doctor_id': 'daec48a0-210b-4a76-9121-f6f65a13159d',\n",
       " 'api_key': '0d635d55-dc19-4258-8cc9-f37390527b0b',\n",
       " 'expired_date': '2025-02-06 15:32:58',\n",
       " 'usage': 100}"
      ]
     },
     "execution_count": 14,
     "metadata": {},
     "output_type": "execute_result"
    }
   ],
   "source": [
    "# get the user api key\n",
    "data = db.get_data(\"Users\",\"Users-API-Keys\",{\"api_key\": api_key},projection={\"_id\":0})\n",
    "data"
   ]
  },
  {
   "cell_type": "code",
   "execution_count": 15,
   "metadata": {},
   "outputs": [
    {
     "data": {
      "text/plain": [
       "ObjectId('67a4d82cba14c7fc06197bb7')"
      ]
     },
     "execution_count": 15,
     "metadata": {},
     "output_type": "execute_result"
    }
   ],
   "source": [
    "# create new case\n",
    "\n",
    "case_id = str(uuid4())\n",
    "doctor_id = str(uuid4())\n",
    "patient_id = str(uuid4())\n",
    "date = datetime.datetime.now()\n",
    "image_id = str(uuid4())\n",
    "dignosis = {\n",
    "    \"dignosis\": [],\n",
    "    \"notes\": [],\n",
    "    \"time_taken\": 0,\n",
    "    \"date\": date.strftime(\"%Y-%m-%d %H:%M:%S\"),\n",
    "}\n",
    "\n",
    "\n",
    "db.insert_data(\"Cases\",\"daec48a0-210b-4a76-9121-f6f65a13159d\",\n",
    "               {\n",
    "                     \"case_id\": case_id,\n",
    "                     \"doctor_id\": doctor_id,\n",
    "                     \"patient_id\": patient_id,\n",
    "                     \"image_id\": image_id,\n",
    "                     \"dignosis\": dignosis,\n",
    "                     \"created_at\": date.strftime(\"%Y-%m-%d %H:%M:%S\")\n",
    "                   \n",
    "               })"
   ]
  },
  {
   "cell_type": "code",
   "execution_count": null,
   "metadata": {},
   "outputs": [],
   "source": []
  }
 ],
 "metadata": {
  "kernelspec": {
   "display_name": "Python 3",
   "language": "python",
   "name": "python3"
  },
  "language_info": {
   "codemirror_mode": {
    "name": "ipython",
    "version": 3
   },
   "file_extension": ".py",
   "mimetype": "text/x-python",
   "name": "python",
   "nbconvert_exporter": "python",
   "pygments_lexer": "ipython3",
   "version": "3.12.6"
  }
 },
 "nbformat": 4,
 "nbformat_minor": 2
}
