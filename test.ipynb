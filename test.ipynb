{
 "cells": [
  {
   "cell_type": "code",
   "execution_count": 1,
   "metadata": {},
   "outputs": [],
   "source": [
    "import requests\n",
    "from App.DB.MongoDB import MongoDB\n",
    "from uuid import uuid4\n",
    "from decouple import config\n"
   ]
  },
  {
   "cell_type": "code",
   "execution_count": 2,
   "metadata": {},
   "outputs": [],
   "source": [
    "db = MongoDB(config(\"MONGO_USERNAME\"), config(\"MONGO_PASSWORD\"))"
   ]
  },
  {
   "cell_type": "code",
   "execution_count": 3,
   "metadata": {},
   "outputs": [
    {
     "data": {
      "text/plain": [
       "ObjectId('67a3aed320d2997734e29d32')"
      ]
     },
     "execution_count": 3,
     "metadata": {},
     "output_type": "execute_result"
    }
   ],
   "source": [
    "# create user API key \n",
    "user_id = str(uuid4())\n",
    "api_key = str(uuid4())\n",
    "db.insert_data(\"Users\",\"Users-API-Keys\",{\n",
    "    \"user_id\": user_id,\n",
    "    \"api_key\": api_key,\n",
    "    \"expired_date\": \"2025-12-31 23:59:59\",\n",
    "    \"usage\": 100\n",
    "\n",
    "})"
   ]
  },
  {
   "cell_type": "code",
   "execution_count": 4,
   "metadata": {},
   "outputs": [
    {
     "data": {
      "text/plain": [
       "{'user_id': '1febd214-79f4-4d35-b33e-bfa9dc423cec',\n",
       " 'api_key': '7f57bb8d-3c0b-4823-bea1-d749b0e12d90',\n",
       " 'expired_date': '2025-12-31 23:59:59',\n",
       " 'usage': 100}"
      ]
     },
     "execution_count": 4,
     "metadata": {},
     "output_type": "execute_result"
    }
   ],
   "source": [
    "# get the user api key\n",
    "data = db.get_data(\"Users\",\"Users-API-Keys\",{\"api_key\": api_key},projection={\"_id\":0})\n",
    "data"
   ]
  },
  {
   "cell_type": "code",
   "execution_count": null,
   "metadata": {},
   "outputs": [],
   "source": [
    "# create new case"
   ]
  }
 ],
 "metadata": {
  "kernelspec": {
   "display_name": "Python 3",
   "language": "python",
   "name": "python3"
  },
  "language_info": {
   "codemirror_mode": {
    "name": "ipython",
    "version": 3
   },
   "file_extension": ".py",
   "mimetype": "text/x-python",
   "name": "python",
   "nbconvert_exporter": "python",
   "pygments_lexer": "ipython3",
   "version": "3.12.6"
  }
 },
 "nbformat": 4,
 "nbformat_minor": 2
}
